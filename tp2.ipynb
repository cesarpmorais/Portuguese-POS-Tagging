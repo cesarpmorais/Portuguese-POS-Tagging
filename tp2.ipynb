{
 "cells": [
  {
   "cell_type": "markdown",
   "metadata": {},
   "source": [
    "Imports"
   ]
  },
  {
   "cell_type": "code",
   "execution_count": 1,
   "metadata": {},
   "outputs": [
    {
     "name": "stderr",
     "output_type": "stream",
     "text": [
      "/home/cesar/.local/lib/python3.10/site-packages/tqdm/auto.py:21: TqdmWarning: IProgress not found. Please update jupyter and ipywidgets. See https://ipywidgets.readthedocs.io/en/stable/user_install.html\n",
      "  from .autonotebook import tqdm as notebook_tqdm\n",
      "2025-01-17 08:05:46.739494: I tensorflow/core/util/port.cc:153] oneDNN custom operations are on. You may see slightly different numerical results due to floating-point round-off errors from different computation orders. To turn them off, set the environment variable `TF_ENABLE_ONEDNN_OPTS=0`.\n",
      "2025-01-17 08:05:46.819596: I external/local_xla/xla/tsl/cuda/cudart_stub.cc:32] Could not find cuda drivers on your machine, GPU will not be used.\n",
      "2025-01-17 08:05:46.889144: E external/local_xla/xla/stream_executor/cuda/cuda_fft.cc:477] Unable to register cuFFT factory: Attempting to register factory for plugin cuFFT when one has already been registered\n",
      "WARNING: All log messages before absl::InitializeLog() is called are written to STDERR\n",
      "E0000 00:00:1737111946.942929    1434 cuda_dnn.cc:8310] Unable to register cuDNN factory: Attempting to register factory for plugin cuDNN when one has already been registered\n",
      "E0000 00:00:1737111946.958724    1434 cuda_blas.cc:1418] Unable to register cuBLAS factory: Attempting to register factory for plugin cuBLAS when one has already been registered\n",
      "2025-01-17 08:05:47.092301: I tensorflow/core/platform/cpu_feature_guard.cc:210] This TensorFlow binary is optimized to use available CPU instructions in performance-critical operations.\n",
      "To enable the following instructions: AVX2 AVX512F AVX512_VNNI AVX512_BF16 FMA, in other operations, rebuild TensorFlow with the appropriate compiler flags.\n"
     ]
    }
   ],
   "source": [
    "from transformers import AutoTokenizer, AutoModel\n",
    "import torch\n",
    "import tensorflow as tf\n",
    "from tensorflow.keras.models import Sequential\n",
    "from tensorflow.keras.layers import Dense\n",
    "from tensorflow.keras.optimizers import Adam\n",
    "import numpy as np\n",
    "from sklearn.metrics import classification_report\n",
    "import os\n",
    "import pickle\n",
    "\n",
    "NUMBER_OF_LABELS = 30\n",
    "\n",
    "tokenizer = AutoTokenizer.from_pretrained(\"neuralmind/bert-base-portuguese-cased\", max_length=512, truncation=True)\n",
    "bert_model = AutoModel.from_pretrained(\"neuralmind/bert-base-portuguese-cased\")"
   ]
  },
  {
   "cell_type": "markdown",
   "metadata": {},
   "source": [
    "Read macmorpho and generate arrays of arrays of sentences and labels"
   ]
  },
  {
   "cell_type": "code",
   "execution_count": 2,
   "metadata": {},
   "outputs": [],
   "source": [
    "def get_labels(labels_path=\"input/macmorpho-labels\"):\n",
    "    lines = []\n",
    "\n",
    "    with open(labels_path, \"r\", encoding=\"utf-8\") as file:\n",
    "        for line in file:\n",
    "            lines.append(line.strip())\n",
    "\n",
    "    return lines\n",
    "\n",
    "def load_macmorpho(file_path, tokenizer, label_list):\n",
    "    sentences = []\n",
    "    labels = []\n",
    "\n",
    "    with open(file_path, \"r\", encoding=\"utf-8\") as f:\n",
    "        current_sentence = []\n",
    "        current_label = []\n",
    "\n",
    "        for line in f:\n",
    "            line = line.strip()\n",
    "            tokens = line.split(\" \")\n",
    "\n",
    "            for token in tokens:\n",
    "                word, label = token.rsplit(\"_\", 1)\n",
    "                subwords = tokenizer.tokenize(word)  # Subword tokenization\n",
    "                subword_count = len(subwords)\n",
    "\n",
    "                current_sentence.extend(subwords)\n",
    "                current_label.extend([label_list.index(label)] + [-1] * (subword_count - 1))  # -1 marks subwords that should not contribute to loss\n",
    "\n",
    "            sentences.append(current_sentence)\n",
    "            labels.append(current_label)\n",
    "            current_sentence = []\n",
    "            current_label = []\n",
    "\n",
    "    return sentences, labels"
   ]
  },
  {
   "cell_type": "markdown",
   "metadata": {},
   "source": [
    "From the sentences, generate all embeddings"
   ]
  },
  {
   "cell_type": "code",
   "execution_count": 3,
   "metadata": {},
   "outputs": [],
   "source": [
    "def get_sentence_embeddings(sentences, labels):\n",
    "    sentence_embeddings = []\n",
    "    expanded_labels = []\n",
    "\n",
    "    print(f\"Total embeddings: {len(sentences)}\")\n",
    "    i = 0\n",
    "    for sentence, label in zip(sentences, labels):\n",
    "        if (i % (len(sentences)/40) == 0):\n",
    "            print(f\"Computed {i} embeddings so far...\")\n",
    "        i += 1\n",
    "\n",
    "        input_ids = tokenizer(sentence, return_tensors='pt', is_split_into_words=True, padding=True, truncation=True)\n",
    "\n",
    "        with torch.no_grad():\n",
    "            outs = bert_model(**input_ids)\n",
    "            token_embeddings = outs.last_hidden_state.squeeze(0)[1:-1]  # Remove [CLS] and [SEP]\n",
    "\n",
    "        # Align labels with tokens\n",
    "        word_ids = input_ids.word_ids() \n",
    "        expanded_label = []\n",
    "        for word_id in word_ids:\n",
    "            if word_id is None:\n",
    "                continue\n",
    "            elif expanded_label and word_id == expanded_label[-1]:\n",
    "                expanded_label.append(-1)\n",
    "            else:\n",
    "                expanded_label.append(label[word_id])\n",
    "\n",
    "        # Ensure embeddings and labels match\n",
    "        if len(token_embeddings) != len(expanded_label):\n",
    "            raise ValueError(f\"Mismatch between tokens and labels: {len(token_embeddings)} vs {len(expanded_label)}\")\n",
    "\n",
    "        sentence_embeddings.append(token_embeddings)\n",
    "        expanded_labels.extend(expanded_label)\n",
    "\n",
    "    return torch.cat(sentence_embeddings).numpy(), np.array(expanded_labels)"
   ]
  },
  {
   "cell_type": "code",
   "execution_count": 4,
   "metadata": {},
   "outputs": [
    {
     "name": "stdout",
     "output_type": "stream",
     "text": [
      "Reading training file...\n",
      "Loading embeddings...\n"
     ]
    }
   ],
   "source": [
    "print(\"Reading training file...\")\n",
    "training_sentence_tokens, training_labels = load_macmorpho(\"input/macmorpho-train.txt\", tokenizer, get_labels())\n",
    "\n",
    "if os.path.exists(\"output/training_embeddings.pkl\"):\n",
    "    print(f\"Loading embeddings...\")\n",
    "    with open(\"output/training_embeddings.pkl\", \"rb\") as f:\n",
    "        data = pickle.load(f)\n",
    "    X_train, y_train = data[\"embeddings\"], data[\"labels\"]\n",
    "else:\n",
    "    print(f\"Computing embeddings...\")\n",
    "    X_train, y_train = get_sentence_embeddings(training_sentence_tokens, training_labels)\n",
    "\n",
    "    with open(\"output/training_embeddings.pkl\", \"wb\") as f:\n",
    "        pickle.dump({\"embeddings\": X_train, \"labels\": y_train}, f)"
   ]
  },
  {
   "cell_type": "code",
   "execution_count": 5,
   "metadata": {},
   "outputs": [
    {
     "name": "stderr",
     "output_type": "stream",
     "text": [
      "/home/cesar/.local/lib/python3.10/site-packages/keras/src/layers/core/dense.py:87: UserWarning: Do not pass an `input_shape`/`input_dim` argument to a layer. When using Sequential models, prefer using an `Input(shape)` object as the first layer in the model instead.\n",
      "  super().__init__(activity_regularizer=activity_regularizer, **kwargs)\n",
      "W0000 00:00:1737111960.529875    1434 gpu_device.cc:2344] Cannot dlopen some GPU libraries. Please make sure the missing libraries mentioned above are installed properly if you would like to use GPU. Follow the guide at https://www.tensorflow.org/install/gpu for how to download and setup the required libraries for your platform.\n",
      "Skipping registering GPU devices...\n"
     ]
    },
    {
     "name": "stdout",
     "output_type": "stream",
     "text": [
      "Starting training\n",
      "Epoch 1/10\n",
      "\u001b[1m22168/22168\u001b[0m \u001b[32m━━━━━━━━━━━━━━━━━━━━\u001b[0m\u001b[37m\u001b[0m \u001b[1m13s\u001b[0m 566us/step - accuracy: 0.9289 - loss: 0.2741\n",
      "Epoch 2/10\n",
      "\u001b[1m22168/22168\u001b[0m \u001b[32m━━━━━━━━━━━━━━━━━━━━\u001b[0m\u001b[37m\u001b[0m \u001b[1m13s\u001b[0m 563us/step - accuracy: 0.9608 - loss: 0.1376\n",
      "Epoch 3/10\n",
      "\u001b[1m22168/22168\u001b[0m \u001b[32m━━━━━━━━━━━━━━━━━━━━\u001b[0m\u001b[37m\u001b[0m \u001b[1m12s\u001b[0m 561us/step - accuracy: 0.9623 - loss: 0.1316\n",
      "Epoch 4/10\n",
      "\u001b[1m22168/22168\u001b[0m \u001b[32m━━━━━━━━━━━━━━━━━━━━\u001b[0m\u001b[37m\u001b[0m \u001b[1m13s\u001b[0m 566us/step - accuracy: 0.9625 - loss: 0.1297\n",
      "Epoch 5/10\n",
      "\u001b[1m22168/22168\u001b[0m \u001b[32m━━━━━━━━━━━━━━━━━━━━\u001b[0m\u001b[37m\u001b[0m \u001b[1m13s\u001b[0m 579us/step - accuracy: 0.9628 - loss: 0.1294\n",
      "Epoch 6/10\n",
      "\u001b[1m22168/22168\u001b[0m \u001b[32m━━━━━━━━━━━━━━━━━━━━\u001b[0m\u001b[37m\u001b[0m \u001b[1m13s\u001b[0m 565us/step - accuracy: 0.9630 - loss: 0.1278\n",
      "Epoch 7/10\n",
      "\u001b[1m22168/22168\u001b[0m \u001b[32m━━━━━━━━━━━━━━━━━━━━\u001b[0m\u001b[37m\u001b[0m \u001b[1m13s\u001b[0m 565us/step - accuracy: 0.9634 - loss: 0.1275\n",
      "Epoch 8/10\n",
      "\u001b[1m22168/22168\u001b[0m \u001b[32m━━━━━━━━━━━━━━━━━━━━\u001b[0m\u001b[37m\u001b[0m \u001b[1m13s\u001b[0m 564us/step - accuracy: 0.9634 - loss: 0.1264\n",
      "Epoch 9/10\n",
      "\u001b[1m22168/22168\u001b[0m \u001b[32m━━━━━━━━━━━━━━━━━━━━\u001b[0m\u001b[37m\u001b[0m \u001b[1m13s\u001b[0m 564us/step - accuracy: 0.9631 - loss: 0.1264\n",
      "Epoch 10/10\n",
      "\u001b[1m22168/22168\u001b[0m \u001b[32m━━━━━━━━━━━━━━━━━━━━\u001b[0m\u001b[37m\u001b[0m \u001b[1m13s\u001b[0m 565us/step - accuracy: 0.9632 - loss: 0.1267\n"
     ]
    },
    {
     "data": {
      "text/plain": [
       "<keras.src.callbacks.history.History at 0x7f74daccaf80>"
      ]
     },
     "execution_count": 5,
     "metadata": {},
     "output_type": "execute_result"
    }
   ],
   "source": [
    "model = Sequential([\n",
    "    Dense(NUMBER_OF_LABELS, input_dim=768, activation='softmax')  # 768 is the size of the BERTimbau embedding\n",
    "])\n",
    "\n",
    "model.compile(optimizer=Adam(learning_rate=0.001),\n",
    "    loss='sparse_categorical_crossentropy',\n",
    "    metrics=['accuracy']\n",
    ")\n",
    "\n",
    "valid_indices = y_train != -1\n",
    "X_train = X_train[valid_indices]\n",
    "y_train = y_train[valid_indices]\n",
    "\n",
    "print(\"Starting training\")\n",
    "model.fit(X_train, y_train, epochs=10, batch_size=32, validation_split=0.2)"
   ]
  },
  {
   "cell_type": "code",
   "execution_count": 6,
   "metadata": {},
   "outputs": [
    {
     "name": "stdout",
     "output_type": "stream",
     "text": [
      "Reading test file...\n",
      "Loading embeddings...\n",
      "Testing...\n",
      "\u001b[1m9264/9264\u001b[0m \u001b[32m━━━━━━━━━━━━━━━━━━━━\u001b[0m\u001b[37m\u001b[0m \u001b[1m5s\u001b[0m 539us/step\n"
     ]
    }
   ],
   "source": [
    "print(\"Reading test file...\")\n",
    "testing_sentence_tokens, testing_labels = load_macmorpho(\"input/macmorpho-test.txt\", tokenizer, get_labels())\n",
    "\n",
    "if os.path.exists(\"output/testing_embeddings.pkl\"):\n",
    "    print(f\"Loading embeddings...\")\n",
    "    with open(\"output/testing_embeddings.pkl\", \"rb\") as f:\n",
    "        data = pickle.load(f)\n",
    "    X_test, y_test = data[\"embeddings\"], data[\"labels\"]\n",
    "else:\n",
    "    print(f\"Computing embeddings...\")\n",
    "    X_test, y_test = get_sentence_embeddings(testing_sentence_tokens, testing_labels)\n",
    "\n",
    "    with open(\"output/testing_embeddings.pkl\", \"wb\") as f:\n",
    "        pickle.dump({\"embeddings\": X_test, \"labels\": y_test}, f)\n",
    "\n",
    "print(\"Testing...\")\n",
    "prediction = model.predict(X_test)\n",
    "predicted_classes = np.argmax(prediction, axis=1)"
   ]
  },
  {
   "cell_type": "markdown",
   "metadata": {},
   "source": [
    "zero division = 0 pois retiramos -1"
   ]
  },
  {
   "cell_type": "code",
   "execution_count": 9,
   "metadata": {},
   "outputs": [
    {
     "name": "stdout",
     "output_type": "stream",
     "text": [
      "              precision    recall  f1-score   support\n",
      "\n",
      "          -1       0.00      0.00      0.00    122722\n",
      "           0       0.29      0.85      0.43      8335\n",
      "           1       0.77      0.83      0.80      5256\n",
      "           2       0.77      0.79      0.78       227\n",
      "           4       0.92      0.99      0.96     12328\n",
      "           5       0.87      0.97      0.92      4430\n",
      "           6       0.87      0.89      0.88      2487\n",
      "           7       0.27      0.58      0.36        98\n",
      "           8       0.41      0.96      0.57     35414\n",
      "           9       0.58      0.94      0.72     15535\n",
      "          10       0.70      0.93      0.79      2481\n",
      "          11       0.71      0.83      0.76      3541\n",
      "          12       0.77      0.86      0.81      1081\n",
      "          13       0.91      0.98      0.94     16369\n",
      "          14       0.73      0.94      0.82      3328\n",
      "          17       0.80      0.80      0.80      1540\n",
      "          18       0.74      0.97      0.84     19084\n",
      "          20       0.75      0.99      0.86       287\n",
      "          21       0.43      1.00      0.60     26328\n",
      "          22       0.82      0.94      0.88      2143\n",
      "          23       0.92      0.98      0.95      9972\n",
      "          24       0.76      0.98      0.86      2792\n",
      "          25       0.74      0.99      0.85       303\n",
      "          26       0.74      0.66      0.70       153\n",
      "          27       0.91      0.91      0.91       125\n",
      "          28       0.84      0.81      0.82        58\n",
      "          29       0.93      0.81      0.86        31\n",
      "\n",
      "    accuracy                           0.56    296448\n",
      "   macro avg       0.70      0.86      0.76    296448\n",
      "weighted avg       0.37      0.56      0.43    296448\n",
      "\n"
     ]
    }
   ],
   "source": [
    "print(classification_report(y_test, predicted_classes, zero_division=0))"
   ]
  }
 ],
 "metadata": {
  "kernelspec": {
   "display_name": "Python 3",
   "language": "python",
   "name": "python3"
  },
  "language_info": {
   "codemirror_mode": {
    "name": "ipython",
    "version": 3
   },
   "file_extension": ".py",
   "mimetype": "text/x-python",
   "name": "python",
   "nbconvert_exporter": "python",
   "pygments_lexer": "ipython3",
   "version": "3.10.12"
  }
 },
 "nbformat": 4,
 "nbformat_minor": 2
}
